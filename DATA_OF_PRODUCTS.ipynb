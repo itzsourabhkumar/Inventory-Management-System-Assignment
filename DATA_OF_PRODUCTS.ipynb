{
 "cells": [
  {
   "cell_type": "code",
   "execution_count": 11,
   "id": "ca4cbae2",
   "metadata": {},
   "outputs": [],
   "source": [
    "products = {1: {\"item\": \"Paneer Burger\",\"cost\":260,\"total_item\":320,\"dis\": 5}}"
   ]
  },
  {
   "cell_type": "code",
   "execution_count": 12,
   "id": "1cf58144",
   "metadata": {},
   "outputs": [],
   "source": [
    "products[2] =  {\"item\": \"Fruit Chaat\",\"cost\":100,\"total_item\":190,\"dis\": 0}"
   ]
  },
  {
   "cell_type": "code",
   "execution_count": 13,
   "id": "5a7bbb87",
   "metadata": {},
   "outputs": [],
   "source": [
    "products[3] =  {\"item\": \"Ghugni Chaat\",\"cost\":850,\"total_item\":590,\"dis\": 3}"
   ]
  },
  {
   "cell_type": "code",
   "execution_count": 14,
   "id": "4de165e4",
   "metadata": {},
   "outputs": [],
   "source": [
    "products[4] =  {\"item\": \"Pizza Dough\",\"cost\":230,\"total_item\":340,\"dis\": 13}"
   ]
  },
  {
   "cell_type": "code",
   "execution_count": 15,
   "id": "cc7b7091",
   "metadata": {},
   "outputs": [],
   "source": [
    "products[5] =  {\"item\": \"Fruit Chaat\",\"cost\":100,\"total_item\":190,\"dis\": 0}"
   ]
  },
  {
   "cell_type": "code",
   "execution_count": 16,
   "id": "1071037b",
   "metadata": {},
   "outputs": [],
   "source": [
    "products[5] =  {\"item\": \"Ambala Paneer Sandwich\",\"cost\":980,\"total_item\":490,\"dis\": 5}"
   ]
  },
  {
   "cell_type": "code",
   "execution_count": 17,
   "id": "33185cd0",
   "metadata": {},
   "outputs": [],
   "source": [
    "products[6] =  {\"item\": \"Aloo Chaat\",\"cost\":150,\"total_item\":790,\"dis\": 3}"
   ]
  },
  {
   "cell_type": "code",
   "execution_count": 18,
   "id": "31c00db6",
   "metadata": {},
   "outputs": [],
   "source": [
    "products[7] =  {\"item\": \"Creamy Alfredo Chicken Pasta\",\"cost\":890,\"total_item\":190,\"dis\": 10}"
   ]
  },
  {
   "cell_type": "code",
   "execution_count": 19,
   "id": "66f46c84",
   "metadata": {},
   "outputs": [],
   "source": [
    "products[8] =  {\"item\": \"Aloo Tikki\",\"cost\":100,\"total_item\":590,\"dis\": 0}"
   ]
  },
  {
   "cell_type": "code",
   "execution_count": 20,
   "id": "3aff40d2",
   "metadata": {},
   "outputs": [],
   "source": [
    "products[9] =  {\"item\": \"Chicken Tikka Burger\",\"cost\":400,\"total_item\":890,\"dis\": 16}"
   ]
  },
  {
   "cell_type": "code",
   "execution_count": 21,
   "id": "d886ac75",
   "metadata": {},
   "outputs": [
    {
     "data": {
      "text/plain": [
       "{1: {'item': 'Paneer Burger', 'cost': 260, 'total_item': 320, 'dis': 5},\n",
       " 2: {'item': 'Fruit Chaat', 'cost': 100, 'total_item': 190, 'dis': 0},\n",
       " 3: {'item': 'Ghugni Chaat', 'cost': 850, 'total_item': 590, 'dis': 3},\n",
       " 4: {'item': 'Pizza Dough', 'cost': 230, 'total_item': 340, 'dis': 13},\n",
       " 5: {'item': 'Ambala Paneer Sandwich',\n",
       "  'cost': 980,\n",
       "  'total_item': 490,\n",
       "  'dis': 5},\n",
       " 6: {'item': 'Aloo Chaat', 'cost': 150, 'total_item': 790, 'dis': 3},\n",
       " 7: {'item': 'Creamy Alfredo Chicken Pasta',\n",
       "  'cost': 890,\n",
       "  'total_item': 190,\n",
       "  'dis': 10},\n",
       " 8: {'item': 'Aloo Tikki', 'cost': 100, 'total_item': 590, 'dis': 0},\n",
       " 9: {'item': 'Chicken Tikka Burger',\n",
       "  'cost': 400,\n",
       "  'total_item': 890,\n",
       "  'dis': 16}}"
      ]
     },
     "execution_count": 21,
     "metadata": {},
     "output_type": "execute_result"
    }
   ],
   "source": [
    "products"
   ]
  },
  {
   "cell_type": "code",
   "execution_count": 22,
   "id": "389bf992",
   "metadata": {},
   "outputs": [],
   "source": [
    "import json\n",
    "\n",
    "js = json.dumps(products)\n"
   ]
  },
  {
   "cell_type": "code",
   "execution_count": 23,
   "id": "54b6892e",
   "metadata": {},
   "outputs": [],
   "source": [
    "fd = open(\"products.json\",\"w\")\n",
    "fd.write(js)\n",
    "fd.close()\n"
   ]
  },
  {
   "cell_type": "code",
   "execution_count": null,
   "id": "36e5ef14",
   "metadata": {},
   "outputs": [],
   "source": []
  }
 ],
 "metadata": {
  "kernelspec": {
   "display_name": "Python 3",
   "language": "python",
   "name": "python3"
  },
  "language_info": {
   "codemirror_mode": {
    "name": "ipython",
    "version": 3
   },
   "file_extension": ".py",
   "mimetype": "text/x-python",
   "name": "python",
   "nbconvert_exporter": "python",
   "pygments_lexer": "ipython3",
   "version": "3.8.8"
  }
 },
 "nbformat": 4,
 "nbformat_minor": 5
}
