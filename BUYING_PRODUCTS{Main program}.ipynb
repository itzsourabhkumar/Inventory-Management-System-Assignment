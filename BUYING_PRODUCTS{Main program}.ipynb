{
 "cells": [
  {
   "cell_type": "code",
   "execution_count": 295,
   "id": "7b74859f",
   "metadata": {},
   "outputs": [],
   "source": [
    "import json\n",
    "\n",
    "fd = open(\"Employees_record.json\",'r')\n",
    "\n",
    "data = fd.read()\n",
    "\n",
    "fd.close()"
   ]
  },
  {
   "cell_type": "code",
   "execution_count": 296,
   "id": "e2237f11",
   "metadata": {},
   "outputs": [],
   "source": [
    "records = json.loads(data)"
   ]
  },
  {
   "cell_type": "code",
   "execution_count": 324,
   "id": "6a147ba6",
   "metadata": {},
   "outputs": [
    {
     "name": "stdout",
     "output_type": "stream",
     "text": [
      "NAME OF EMPLOYEES WITH THEIR OCCUPATION AND EMAIL_ID\n",
      "***************************************************************************************************\n",
      "\n",
      "NAME:   Akash Singh \t || \toccupation:   software engineer \t\t\t || \temail-id:   akash0978@email.com \t\n",
      "\n",
      "NAME:   Akashi metha \t || \toccupation:   junior software engineer \t\t\t || \temail-id:   akashimetha000@email.com \t\n",
      "\n",
      "NAME:   Abbay \t || \toccupation:   software engineer \t\t\t || \temail-id:   abbayjio@email.com \t\n",
      "\n",
      "NAME:   Ankush \t || \toccupation:   Technical department \t\t\t || \temail-id:   ankushkumar@email.com \t\n",
      "\n",
      "NAME:   adarsh \t || \toccupation:   Senior devloper \t\t\t || \temail-id:   adarsh98@email.com \t\n",
      "\n",
      "NAME:   Bucky \t || \toccupation:   ios devloper \t\t\t || \temail-id:   bukykl000@email.com \t\n",
      "\n",
      "NAME:   Bakshi \t || \toccupation:   android devloper \t\t\t || \temail-id:   bakshi9087@email.com \t\n",
      "\n",
      "NAME:   Brijraj \t || \toccupation:   PHP developer \t\t\t || \temail-id:   brijrajkle@email.com \t\n",
      "\n",
      "NAME:   Bhomi \t || \toccupation:   React native Deveoper \t\t\t || \temail-id:   bhomi9870@email.com \t\n",
      "\n",
      "NAME:   Bharat \t || \toccupation:   HR \t\t\t || \temail-id:   baharat1098@email.com \t\n",
      "\n",
      "NAME:   Charan \t || \toccupation:   Finance department \t\t\t || \temail-id:   charanlpoi098@email.com \t\n",
      "\n",
      "NAME:   Chaya \t || \toccupation:   software engineer \t\t\t || \temail-id:   chayasingh5609@email.com \t\n",
      "\n",
      "NAME:   Chandan \t || \toccupation:   junior software engineer \t\t\t || \temail-id:   chandansingh760@email.com \t\n",
      "\n",
      "NAME:   Deepak \t || \toccupation:   junior software engineer \t\t\t || \temail-id:   deepak9087@email.com \t\n",
      "\n",
      "NAME:   Diksha \t || \toccupation:   React native Deveoper \t\t\t || \temail-id:   diksha870@email.com \t\n",
      "\n",
      "NAME:   Fiza \t || \toccupation:   software engineer \t\t\t || \temail-id:   fizakhan@email.com \t\n",
      "\n",
      "NAME:   Gungun \t || \toccupation:   junior software engineer \t\t\t || \temail-id:   gungun8978@email.com \t\n",
      "\n",
      "NAME:   Harsh \t || \toccupation:   software engineer \t\t\t || \temail-id:   harshdogria@email.com \t\n",
      "\n",
      "NAME:   Himanshu \t || \toccupation:   PHP developer \t\t\t || \temail-id:   himanshusingh56@email.com \t\n",
      "\n",
      "NAME:   Jimmy \t || \toccupation:   android devloper \t\t\t || \temail-id:   jimmyaja@email.com \t\n",
      "\n",
      "NAME:   Jony \t || \toccupation:   React native Deveoper \t\t\t || \temail-id:   jony8708@email.com \t\n",
      "\n",
      "NAME:   Kajal \t || \toccupation:   PHP developer \t\t\t || \temail-id:   kajal679@email.com \t\n",
      "\n",
      "NAME:   Kartik \t || \toccupation:   software engineer \t\t\t || \temail-id:   kartiklp908@email.com \t\n",
      "\n",
      "NAME:   Lokesh \t || \toccupation:   Finance department \t\t\t || \temail-id:   lokeshji2909@email.com \t\n",
      "\n",
      "NAME:   Mohit \t || \toccupation:   PHP developer \t\t\t || \temail-id:   mohit7086@email.com \t\n",
      "\n",
      "NAME:   Neha \t || \toccupation:   React native Deveoper \t\t\t || \temail-id:   nehakumari@email.com \t\n",
      "\n",
      "NAME:   Rakshit \t || \toccupation:   Finance department \t\t\t || \temail-id:   rakshitrajput@email.com \t\n",
      "\n",
      "NAME:   Sourabh \t || \toccupation:   software engineer \t\t\t || \temail-id:   sourabh30@email.com \t\n",
      "\n",
      "NAME:   Shivam \t || \toccupation:   PHP developer \t\t\t || \temail-id:   unkown79@email.com \t\n",
      "\n",
      "NAME:   Salu \t || \toccupation:   React native Deveoper \t\t\t || \temail-id:   salukumari@email.com \t\n",
      "\n",
      "NAME:   Shivani \t || \toccupation:   android devloper \t\t\t || \temail-id:   shivani90@email.com \t\n",
      "\n",
      "NAME:   Suraj \t || \toccupation:   Finance department \t\t\t || \temail-id:   surajpatal@email.com \t\n",
      "\n",
      "**************************************************************************************************\n"
     ]
    }
   ],
   "source": [
    "print(\"NAME OF EMPLOYEES WITH THEIR OCCUPATION AND EMAIL_ID\")\n",
    "print(\"***************************************************************************************************\\n\")\n",
    "\n",
    "for i in range(1,33):\n",
    "    print(\"NAME:  \" ,records[str(i)][\"name\"] , \"\\t ||\",\"\\toccupation:  \", records[str(i)][\"occupation\"], \"\\t\\t\\t ||\",\n",
    "                \"\\temail-id:  \", records[str(i)][\"email-id\"],\"\\t\\n\")\n",
    "\n",
    "print(\"**************************************************************************************************\")\n"
   ]
  },
  {
   "cell_type": "code",
   "execution_count": 367,
   "id": "0dc56193",
   "metadata": {},
   "outputs": [
    {
     "name": "stdout",
     "output_type": "stream",
     "text": [
      "***ENTER THE NAME IN SAME FORMAT // NAME ARE CASE SENSITIVE***\n"
     ]
    }
   ],
   "source": [
    "print(\"***ENTER THE NAME IN SAME FORMAT // NAME ARE CASE SENSITIVE***\")"
   ]
  },
  {
   "cell_type": "code",
   "execution_count": 315,
   "id": "47169849",
   "metadata": {},
   "outputs": [
    {
     "name": "stdout",
     "output_type": "stream",
     "text": [
      "Enter your name:  Sourab\n",
      "\n",
      "YOU ARE NOT A VALID USER PLEASE TRY AGAIN!!\n",
      "\n",
      "ENTER 1 if you want to exit:: 2\n",
      "Enter your name:  Sourabh\n",
      "\n",
      "YOU ARE A VALID USER\n"
     ]
    }
   ],
   "source": [
    "user_found= True\n",
    "serial_no = 0\n",
    "\n",
    "while(user_found):\n",
    "    name = input(\"Enter your name:  \")\n",
    "    \n",
    "    for i in range(1,33):\n",
    "        if(records[str(i)][\"name\"]  == name):\n",
    "            serial_no = i\n",
    "            user_found = False\n",
    "            print(\"\\nYOU ARE A VALID USER\")\n",
    "    \n",
    "    if(user_found):\n",
    "        print(\"\\nYOU ARE NOT A VALID USER PLEASE TRY AGAIN!!\\n\")\n",
    "        exit = input(\"ENTER 1 if you want to exit:: \")\n",
    "        if(exit == \"1\"):\n",
    "            user_found = False\n",
    "    "
   ]
  },
  {
   "cell_type": "code",
   "execution_count": 316,
   "id": "b072fbcb",
   "metadata": {},
   "outputs": [],
   "source": [
    "fd = open(\"products.json\",'r')\n",
    "\n",
    "product = fd.read()\n",
    "\n",
    "fd.close()"
   ]
  },
  {
   "cell_type": "code",
   "execution_count": 299,
   "id": "ea25ec80",
   "metadata": {},
   "outputs": [],
   "source": [
    "all_product = json.loads(product)"
   ]
  },
  {
   "cell_type": "code",
   "execution_count": 322,
   "id": "7fc7250e",
   "metadata": {},
   "outputs": [
    {
     "name": "stdout",
     "output_type": "stream",
     "text": [
      "\t\t\t\t\tList of all item Make your order\n",
      "---------------------------------------------------------------------------------------------------------------------------------------------------------------------------\n",
      "\t\t\t 1 .Item:  Paneer Burger \t||\tCost of item:  260 \t||\tDiscount:  5 \n",
      "\n",
      "\t\t\t 2 .Item:  Fruit Chaat \t||\tCost of item:  100 \t||\tDiscount:  0 \n",
      "\n",
      "\t\t\t 3 .Item:  Ghugni Chaat \t||\tCost of item:  850 \t||\tDiscount:  3 \n",
      "\n",
      "\t\t\t 4 .Item:  Pizza Dough \t||\tCost of item:  230 \t||\tDiscount:  13 \n",
      "\n",
      "\t\t\t 5 .Item:  Ambala Paneer Sandwich \t||\tCost of item:  980 \t||\tDiscount:  5 \n",
      "\n",
      "\t\t\t 6 .Item:  Aloo Chaat \t||\tCost of item:  150 \t||\tDiscount:  3 \n",
      "\n",
      "\t\t\t 7 .Item:  Creamy Alfredo Chicken Pasta \t||\tCost of item:  890 \t||\tDiscount:  10 \n",
      "\n",
      "\t\t\t 8 .Item:  Aloo Tikki \t||\tCost of item:  100 \t||\tDiscount:  0 \n",
      "\n",
      "\t\t\t 9 .Item:  Chicken Tikka Burger \t||\tCost of item:  400 \t||\tDiscount:  16 \n",
      "\n",
      "---------------------------------------------------------------------------------------------------------------------------------------------------------------------------\n"
     ]
    }
   ],
   "source": [
    "print(\"\\t\\t\\t\\t\\tList of all item Make your order\")\n",
    "print(\"---------------------------------------------------------------------------------------------------------------------------------------------------------------------------\")\n",
    "for i in all_product.keys():\n",
    "    print(\"\\t\\t\\t\",i,\".Item: \",all_product[i][\"item\"],\"\\t||\\tCost of item: \",all_product[i][\"cost\"], \"\\t||\\tDiscount: \",all_product[i][\"dis\"],\"\\n\" )\n",
    "    \n",
    "print(\"---------------------------------------------------------------------------------------------------------------------------------------------------------------------------\")"
   ]
  },
  {
   "cell_type": "code",
   "execution_count": 350,
   "id": "294aa7d8",
   "metadata": {},
   "outputs": [
    {
     "name": "stdout",
     "output_type": "stream",
     "text": [
      "Enter the Item Number:  1\n",
      "Enter the quantity of item:  2\n",
      "Order more item enter 1:  1\n",
      "Enter the Item Number:  10\n",
      "\n",
      "Product not found!\n",
      "Order more item enter 1:  1\n",
      "Enter the Item Number:  2\n",
      "Enter the quantity of item:  4\n",
      "Order more item enter 1:  0\n"
     ]
    }
   ],
   "source": [
    "more = True\n",
    "total_number_of_items = []\n",
    "quantity_of_products = []\n",
    "\n",
    "keys_of_all_product = []\n",
    "\n",
    "for i in all_product:\n",
    "    keys_of_all_product.append(i)\n",
    "\n",
    "    \n",
    "while(more):\n",
    "    product_found = True\n",
    "    item_number = str(input(\"Enter the Item Number:  \"))\n",
    "    for i in keys_of_all_product:\n",
    "        if(i  == item_number):\n",
    "            product_found = False\n",
    "            quantity_of_item = int(input(\"Enter the quantity of item:  \"))\n",
    "            if(quantity_of_item <= all_product[item_number][\"total_item\"]):\n",
    "                quant = False\n",
    "                total_number_of_items.append(item_number)\n",
    "                quantity_of_products.append(quantity_of_item)\n",
    "                \n",
    "    if(product_found):\n",
    "        print(\"\\nProduct not found!\")\n",
    "    order = input(\"Order more item enter 1:  \")\n",
    "    if(order == \"1\"):\n",
    "        more = True\n",
    "    else:\n",
    "        more = False\n",
    "        "
   ]
  },
  {
   "cell_type": "code",
   "execution_count": 368,
   "id": "a49cf2ab",
   "metadata": {},
   "outputs": [],
   "source": [
    "import time\n",
    "t = time.ctime()"
   ]
  },
  {
   "cell_type": "code",
   "execution_count": 356,
   "id": "43b4c1d7",
   "metadata": {},
   "outputs": [
    {
     "name": "stdout",
     "output_type": "stream",
     "text": [
      "\t\t\t\t\t\tDetail of Bill\n",
      "*****************************************************\n",
      "Date and Time of Billing:  Mon Sep  6 19:59:46 2021\n",
      "NAME:   Sourabh\n",
      "occupation:   software engineer\n",
      "email-id:   sourabh30@email.com\n",
      "------------------------------------\n",
      "ITEM:   :  Paneer Burger\n",
      "Quantity of item:  2\n",
      "price:  515\n",
      "Discount:  5\n",
      "------------------------------------\n",
      "------------------------------------\n",
      "ITEM:   :  Fruit Chaat\n",
      "Quantity of item:  2\n",
      "price:  200\n",
      "Discount:  0\n",
      "------------------------------------\n",
      "--------------------------------------------------------------------------------------------\n",
      "\t\t\t\tTotal_Amount:   715\n",
      "--------------------------------------------------------------------------------------------\n",
      "\n",
      "\n",
      "\t\tYour Balance: 40680  -  715  =  39965\n",
      "--------------------------------------------------------------------------------------------\n",
      "*************************************************************\n"
     ]
    }
   ],
   "source": [
    "total_amount = 0\n",
    "print(\"\\t\\t\\t\\t\\t\\tDetail of Bill\")\n",
    "print(\"*****************************************************\")\n",
    "print(\"Date and Time of Billing: \",t)\n",
    "\n",
    "print(\"NAME:  \" ,name)\n",
    "print(\"occupation:  \",records[str(serial_no)][\"occupation\"])\n",
    "print(\"email-id:  \",records[str(serial_no)][\"email-id\"])\n",
    "\n",
    "    \n",
    "for i in total_number_of_items:\n",
    "    price=0\n",
    "    num = 0\n",
    "    print(\"------------------------------------\")\n",
    "    print(\"ITEM:  \" , \": \", all_product[i][\"item\"])\n",
    "    print(\"Quantity of item: \", quantity_of_products[num])\n",
    "    price = all_product[i][\"cost\"] * quantity_of_products[num] - all_product[i][\"dis\"] \n",
    "    print(\"price: \",price)\n",
    "    print(\"Discount: \",all_product[i][\"dis\"])\n",
    "    print(\"------------------------------------\")\n",
    "    total_amount += price\n",
    "    num = num + 1\n",
    "\n",
    "print(\"--------------------------------------------------------------------------------------------\")\n",
    "print(\"\\t\\t\\t\\tTotal_Amount:  \",total_amount)\n",
    "print(\"--------------------------------------------------------------------------------------------\")\n",
    "print(\"\\n\\n\\t\\tYour Balance:\",records[str(serial_no)][\"balance\"], \" - \",total_amount,\" = \",\n",
    "             records[str(serial_no)][\"balance\"] - total_amount)\n",
    "print(\"--------------------------------------------------------------------------------------------\")\n",
    "\n",
    "print(\"*************************************************************\")"
   ]
  },
  {
   "cell_type": "code",
   "execution_count": 357,
   "id": "4c6ebea5",
   "metadata": {},
   "outputs": [],
   "source": [
    "records[str(serial_no)][\"balance\"] =  records[str(serial_no)][\"balance\"] - total_amount"
   ]
  },
  {
   "cell_type": "code",
   "execution_count": 358,
   "id": "931315fa",
   "metadata": {},
   "outputs": [],
   "source": [
    "records[str(serial_no)][\"ltdt\"] = t "
   ]
  },
  {
   "cell_type": "code",
   "execution_count": 359,
   "id": "388e1680",
   "metadata": {},
   "outputs": [],
   "source": [
    "update_employees_record =  json.dumps(records)"
   ]
  },
  {
   "cell_type": "code",
   "execution_count": 361,
   "id": "1c6d01a2",
   "metadata": {},
   "outputs": [],
   "source": [
    "update_employess_file = open(\"Employees_record.json\",\"w\")\n",
    "update_employess_file.write(update_employees_record)\n",
    "update_employess_file.close()"
   ]
  },
  {
   "cell_type": "code",
   "execution_count": 369,
   "id": "1ca2c726",
   "metadata": {},
   "outputs": [],
   "source": [
    "for i in total_number_of_items:\n",
    "    idx=0\n",
    "    all_product[i]['total_item'] = all_product[i]['total_item'] - quantity_of_products[idx]\n",
    "    idx=idx+1"
   ]
  },
  {
   "cell_type": "code",
   "execution_count": 363,
   "id": "adf8ff7f",
   "metadata": {},
   "outputs": [],
   "source": [
    "update_product_record =  json.dumps(all_product)"
   ]
  },
  {
   "cell_type": "code",
   "execution_count": 365,
   "id": "6ff1b9b4",
   "metadata": {},
   "outputs": [],
   "source": [
    "update_product_file = open(\"products.json\",\"w\")\n",
    "update_product_file.write(update_product_record)\n",
    "update_product_file.close()"
   ]
  },
  {
   "cell_type": "code",
   "execution_count": null,
   "id": "0eb218ef",
   "metadata": {},
   "outputs": [],
   "source": []
  }
 ],
 "metadata": {
  "kernelspec": {
   "display_name": "Python 3",
   "language": "python",
   "name": "python3"
  },
  "language_info": {
   "codemirror_mode": {
    "name": "ipython",
    "version": 3
   },
   "file_extension": ".py",
   "mimetype": "text/x-python",
   "name": "python",
   "nbconvert_exporter": "python",
   "pygments_lexer": "ipython3",
   "version": "3.8.8"
  }
 },
 "nbformat": 4,
 "nbformat_minor": 5
}
