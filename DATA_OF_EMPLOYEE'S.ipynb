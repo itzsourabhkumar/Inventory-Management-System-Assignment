{
 "cells": [
  {
   "cell_type": "code",
   "execution_count": 78,
   "id": "38f6273d",
   "metadata": {},
   "outputs": [],
   "source": [
    "data = {\"company name\": \"Fierro Group\"}"
   ]
  },
  {
   "cell_type": "code",
   "execution_count": 79,
   "id": "44fc0b63",
   "metadata": {},
   "outputs": [],
   "source": [
    "data[\"Founder\"] = \"Sourabh Kumar\""
   ]
  },
  {
   "cell_type": "code",
   "execution_count": 80,
   "id": "2e0122b9",
   "metadata": {},
   "outputs": [],
   "source": [
    "data[1] = {\"name\": \"Akash Singh\",\"balance\": 75040,\"occupation\": \"software engineer\",\"mobile-no\": 9075456789,\n",
    "                            \"email-id\": \"akash0978@email.com\",\"ltdt\": \"Sat Sep  4 10:07:00 2021\" }"
   ]
  },
  {
   "cell_type": "code",
   "execution_count": 81,
   "id": "c935bf6e",
   "metadata": {},
   "outputs": [],
   "source": [
    "data[2] = {\"name\": \"Akashi metha\",\"balance\": 45670,\"occupation\": \"junior software engineer\",\"mobile-no\": 9545983408,\n",
    "                            \"email-id\": \"akashimetha000@email.com\",\"ltdt\": \"Sat Sep  4 10:07:00 2021\" }"
   ]
  },
  {
   "cell_type": "code",
   "execution_count": 82,
   "id": "e40bcc20",
   "metadata": {},
   "outputs": [],
   "source": [
    "data[3] = {\"name\": \"Abbay\",\"balance\":85670,\"occupation\": \"software engineer\",\"mobile-no\": 9075432897,\n",
    "                            \"email-id\": \"abbayjio@email.com\",\"ltdt\": \"Sat Sep  4 10:07:00 2021\" }"
   ]
  },
  {
   "cell_type": "code",
   "execution_count": 83,
   "id": "e1315325",
   "metadata": {},
   "outputs": [],
   "source": [
    "data[4] = {\"name\": \"Ankush\",\"balance\": 78670,\"occupation\": \"Technical department\",\"mobile-no\": 8907548970,\n",
    "                            \"email-id\": \"ankushkumar@email.com\",\"ltdt\": \"Sat Sep  4 10:07:00 2021\" }"
   ]
  },
  {
   "cell_type": "code",
   "execution_count": 84,
   "id": "528b7f44",
   "metadata": {},
   "outputs": [],
   "source": [
    "data[5] = {\"name\": \"adarsh\",\"balance\": 97650,\"occupation\": \"Senior devloper\",\"mobile-no\": 809346590,\n",
    "                            \"email-id\": \"adarsh98@email.com\",\"ltdt\": \"Sat Sep  4 10:07:00 2021\" }"
   ]
  },
  {
   "cell_type": "code",
   "execution_count": 85,
   "id": "1f6e10d4",
   "metadata": {},
   "outputs": [],
   "source": [
    "data[6] = {\"name\": \"Bucky\",\"balance\": 80870,\"occupation\": \"ios devloper\",\"mobile-no\": 9545983408,\n",
    "                            \"email-id\": \"bukykl000@email.com\",\"ltdt\": \"Sat Sep  4 10:07:00 2021\" }"
   ]
  },
  {
   "cell_type": "code",
   "execution_count": 86,
   "id": "74063bbc",
   "metadata": {},
   "outputs": [],
   "source": [
    "data[7] = {\"name\": \"Bakshi\",\"balance\": 45670,\"occupation\": \"android devloper\",\"mobile-no\": 9545983408,\n",
    "                            \"email-id\": \"bakshi9087@email.com\",\"ltdt\": \"Sat Sep  4 10:07:00 2021\" }"
   ]
  },
  {
   "cell_type": "code",
   "execution_count": 87,
   "id": "073f4a7f",
   "metadata": {},
   "outputs": [],
   "source": [
    "data[8] = {\"name\": \"Brijraj\",\"balance\": 90567,\"occupation\": \"PHP developer\",\"mobile-no\": 9034609854,\n",
    "                            \"email-id\": \"brijrajkle@email.com\",\"ltdt\": \"Sat Sep  4 10:07:00 2021\" }"
   ]
  },
  {
   "cell_type": "code",
   "execution_count": 88,
   "id": "21369309",
   "metadata": {},
   "outputs": [],
   "source": [
    "data[9] = {\"name\": \"Bhomi\",\"balance\": 90745,\"occupation\": \"React native Deveoper\",\"mobile-no\": 9070309567,\n",
    "                            \"email-id\": \"bhomi9870@email.com\",\"ltdt\": \"Sat Sep  4 10:07:00 2021\" }"
   ]
  },
  {
   "cell_type": "code",
   "execution_count": 89,
   "id": "52e582fc",
   "metadata": {},
   "outputs": [],
   "source": [
    "data[10] = {\"name\": \"Bharat\",\"balance\": 45670,\"occupation\": \"HR\",\"mobile-no\": 9545983408,\n",
    "                            \"email-id\": \"baharat1098@email.com\",\"ltdt\": \"Sat Sep  4 10:07:00 2021\" }"
   ]
  },
  {
   "cell_type": "code",
   "execution_count": 90,
   "id": "191dfad0",
   "metadata": {},
   "outputs": [],
   "source": [
    "data[11] = {\"name\": \"Charan\",\"balance\": 97456,\"occupation\": \"Finance department\",\"mobile-no\": 9409306204,\n",
    "                            \"email-id\": \"charanlpoi098@email.com\",\"ltdt\": \"Sat Sep  4 10:07:00 2021\" }"
   ]
  },
  {
   "cell_type": "code",
   "execution_count": 91,
   "id": "743ae5c3",
   "metadata": {},
   "outputs": [],
   "source": [
    "data[12] = {\"name\": \"Chaya\",\"balance\": 90754,\"occupation\": \"software engineer\",\"mobile-no\": 9545983408,\n",
    "                            \"email-id\": \"chayasingh5609@email.com\",\"ltdt\": \"Sat Sep  4 10:07:00 2021\" }"
   ]
  },
  {
   "cell_type": "code",
   "execution_count": 92,
   "id": "f37e7072",
   "metadata": {},
   "outputs": [],
   "source": [
    "data[13] = {\"name\": \"Chandan\",\"balance\": 90865,\"occupation\": \"junior software engineer\",\"mobile-no\": 9089460345,\n",
    "                            \"email-id\": \"chandansingh760@email.com\",\"ltdt\": \"Sat Sep  4 10:07:00 2021\" }"
   ]
  },
  {
   "cell_type": "code",
   "execution_count": 93,
   "id": "54fe8bb3",
   "metadata": {},
   "outputs": [],
   "source": [
    "data[14] = {\"name\": \"Deepak\",\"balance\": 45670,\"occupation\": \"junior software engineer\",\"mobile-no\": 9545983408,\n",
    "                            \"email-id\": \"deepak9087@email.com\",\"ltdt\": \"Sat Sep  4 10:07:00 2021\" }"
   ]
  },
  {
   "cell_type": "code",
   "execution_count": 94,
   "id": "49c29bdf",
   "metadata": {},
   "outputs": [],
   "source": [
    "data[15] = {\"name\": \"Diksha\",\"balance\": 90876,\"occupation\": \"React native Deveoper\",\"mobile-no\": 908654890,\n",
    "                            \"email-id\": \"diksha870@email.com\",\"ltdt\": \"Sat Sep  4 10:07:00 2021\" }"
   ]
  },
  {
   "cell_type": "code",
   "execution_count": 95,
   "id": "3567de1c",
   "metadata": {},
   "outputs": [],
   "source": [
    "data[16] = {\"name\": \"Fiza\",\"balance\": 90765,\"occupation\": \"software engineer\",\"mobile-no\": 9089076567,\n",
    "                            \"email-id\": \"fizakhan@email.com\",\"ltdt\": \"Sat Sep  4 10:07:00 2021\" }"
   ]
  },
  {
   "cell_type": "code",
   "execution_count": 96,
   "id": "a570b3d6",
   "metadata": {},
   "outputs": [],
   "source": [
    "data[17] = {\"name\": \"Gungun\",\"balance\": 90897,\"occupation\": \"junior software engineer\",\"mobile-no\": 6790870976,\n",
    "                            \"email-id\": \"gungun8978@email.com\",\"ltdt\": \"Sat Sep  4 10:07:00 2021\" }"
   ]
  },
  {
   "cell_type": "code",
   "execution_count": 97,
   "id": "30e61f03",
   "metadata": {},
   "outputs": [],
   "source": [
    "data[18] = {\"name\": \"Harsh\",\"balance\": 90867,\"occupation\": \"software engineer\",\"mobile-no\": 8907567890,\n",
    "                            \"email-id\": \"harshdogria@email.com\",\"ltdt\": \"Sat Sep  4 10:07:00 2021\" }"
   ]
  },
  {
   "cell_type": "code",
   "execution_count": 98,
   "id": "2f0d7ba2",
   "metadata": {},
   "outputs": [],
   "source": [
    "data[19] = {\"name\": \"Himanshu\",\"balance\": 45670,\"occupation\": \"PHP developer\",\"mobile-no\": 9086789098,\n",
    "                            \"email-id\": \"himanshusingh56@email.com\",\"ltdt\": \"Sat Sep  4 10:07:00 2021\" }"
   ]
  },
  {
   "cell_type": "code",
   "execution_count": 99,
   "id": "bb223a9b",
   "metadata": {},
   "outputs": [],
   "source": [
    "data[20] = {\"name\": \"Jimmy\",\"balance\": 90865,\"occupation\": \"android devloper\",\"mobile-no\": 9086745678,\n",
    "                            \"email-id\": \"jimmyaja@email.com\",\"ltdt\": \"Sat Sep  4 10:07:00 2021\" }"
   ]
  },
  {
   "cell_type": "code",
   "execution_count": 100,
   "id": "4c65ba83",
   "metadata": {},
   "outputs": [],
   "source": [
    "data[21] = {\"name\": \"Jony\",\"balance\": 78065,\"occupation\": \"React native Deveoper\",\"mobile-no\": 9890864567,\n",
    "                            \"email-id\": \"jony8708@email.com\",\"ltdt\": \"Sat Sep  4 10:07:00 2021\" }"
   ]
  },
  {
   "cell_type": "code",
   "execution_count": 101,
   "id": "b5426229",
   "metadata": {},
   "outputs": [],
   "source": [
    "data[22] = {\"name\": \"Kajal\",\"balance\": 89075,\"occupation\": \"PHP developer\",\"mobile-no\": 9545983408,\n",
    "                            \"email-id\": \"kajal679@email.com\",\"ltdt\": \"Sat Sep  4 10:07:00 2021\" }"
   ]
  },
  {
   "cell_type": "code",
   "execution_count": 102,
   "id": "0ee6112e",
   "metadata": {},
   "outputs": [],
   "source": [
    "data[23] = {\"name\": \"Kartik\",\"balance\": 90865,\"occupation\": \"software engineer\",\"mobile-no\": 9908459876,\n",
    "                            \"email-id\": \"kartiklp908@email.com\",\"ltdt\": \"Sat Sep  4 10:07:00 2021\" }"
   ]
  },
  {
   "cell_type": "code",
   "execution_count": 103,
   "id": "fca032c1",
   "metadata": {},
   "outputs": [],
   "source": [
    "data[24] = {\"name\": \"Lokesh\",\"balance\": 90865,\"occupation\": \"Finance department\",\"mobile-no\": 9067095008,\n",
    "                            \"email-id\": \"lokeshji2909@email.com\",\"ltdt\": \"Sat Sep  4 10:07:00 2021\" }"
   ]
  },
  {
   "cell_type": "code",
   "execution_count": 104,
   "id": "3b2ac6e7",
   "metadata": {},
   "outputs": [],
   "source": [
    "data[25] = {\"name\": \"Mohit\",\"balance\": 89067,\"occupation\": \"PHP developer\",\"mobile-no\": 9549457408,\n",
    "                            \"email-id\": \"mohit7086@email.com\",\"ltdt\": \"Sat Sep  4 10:07:00 2021\" }"
   ]
  },
  {
   "cell_type": "code",
   "execution_count": 105,
   "id": "0389a74d",
   "metadata": {},
   "outputs": [],
   "source": [
    "data[26] = {\"name\": \"Neha\",\"balance\": 78098,\"occupation\": \"React native Deveoper\",\"mobile-no\": 9545983988,\n",
    "                            \"email-id\": \"nehakumari@email.com\",\"ltdt\": \"Sat Sep  4 10:07:00 2021\" }"
   ]
  },
  {
   "cell_type": "code",
   "execution_count": 106,
   "id": "95cc42b6",
   "metadata": {},
   "outputs": [],
   "source": [
    "data[27] = {\"name\": \"Rakshit\",\"balance\": 20979,\"occupation\": \"Finance department\",\"mobile-no\": 9904379589,\n",
    "                            \"email-id\": \"rakshitrajput@email.com\",\"ltdt\": \"Sat Sep  4 10:07:00 2021\" }"
   ]
  },
  {
   "cell_type": "code",
   "execution_count": 107,
   "id": "2cf50b79",
   "metadata": {},
   "outputs": [],
   "source": [
    "data[28] = {\"name\": \"Sourabh\",\"balance\": 40897,\"occupation\": \"software engineer\",\"mobile-no\": 9780568435,\n",
    "                            \"email-id\": \"sourabh30@email.com\",\"ltdt\": \"Sat Sep  4 10:07:00 2021\" }"
   ]
  },
  {
   "cell_type": "code",
   "execution_count": 108,
   "id": "4b8c0331",
   "metadata": {},
   "outputs": [],
   "source": [
    "data[29] = {\"name\": \"Shivam\",\"balance\": 34098,\"occupation\": \"PHP developer\",\"mobile-no\": 9990546709,\n",
    "                            \"email-id\": \"unkown79@email.com\",\"ltdt\": \"Sat Sep  4 10:07:00 2021\" }"
   ]
  },
  {
   "cell_type": "code",
   "execution_count": 109,
   "id": "3d28ac35",
   "metadata": {},
   "outputs": [],
   "source": [
    "data[30] = {\"name\": \"Salu\",\"balance\": 90876,\"occupation\": \"React native Deveoper\",\"mobile-no\": 9590756745,\n",
    "                            \"email-id\": \"salukumari@email.com\",\"ltdt\": \"Sat Sep  4 10:07:00 2021\" }"
   ]
  },
  {
   "cell_type": "code",
   "execution_count": 110,
   "id": "e0f94ca3",
   "metadata": {},
   "outputs": [],
   "source": [
    "data[31] = {\"name\": \"Shivani\",\"balance\": 89670,\"occupation\": \"android devloper\",\"mobile-no\": 8906789567,\n",
    "                            \"email-id\": \"shivani90@email.com\",\"ltdt\": \"Sat Sep  4 10:07:00 2021\" }"
   ]
  },
  {
   "cell_type": "code",
   "execution_count": 111,
   "id": "90208a52",
   "metadata": {},
   "outputs": [],
   "source": [
    "data[32] = {\"name\": \"Suraj\",\"balance\": 90870,\"occupation\": \"Finance department\",\"mobile-no\": 9056786457,\n",
    "                            \"email-id\": \"surajpatal@email.com\",\"ltdt\": \"Sat Sep  4 10:07:00 2021\" }"
   ]
  },
  {
   "cell_type": "code",
   "execution_count": 112,
   "id": "f2ab4e7c",
   "metadata": {},
   "outputs": [],
   "source": [
    "import json\n",
    "\n",
    "js = json.dumps(data)"
   ]
  },
  {
   "cell_type": "code",
   "execution_count": 113,
   "id": "882b425f",
   "metadata": {},
   "outputs": [],
   "source": [
    "fd = open('Employees_record.json','w')\n",
    "\n",
    "fd .write(js)\n",
    "\n",
    "fd.close()"
   ]
  },
  {
   "cell_type": "code",
   "execution_count": null,
   "id": "e0ed82ef",
   "metadata": {},
   "outputs": [],
   "source": []
  },
  {
   "cell_type": "code",
   "execution_count": null,
   "id": "b94886ed",
   "metadata": {},
   "outputs": [],
   "source": []
  }
 ],
 "metadata": {
  "kernelspec": {
   "display_name": "Python 3",
   "language": "python",
   "name": "python3"
  },
  "language_info": {
   "codemirror_mode": {
    "name": "ipython",
    "version": 3
   },
   "file_extension": ".py",
   "mimetype": "text/x-python",
   "name": "python",
   "nbconvert_exporter": "python",
   "pygments_lexer": "ipython3",
   "version": "3.8.8"
  }
 },
 "nbformat": 4,
 "nbformat_minor": 5
}
